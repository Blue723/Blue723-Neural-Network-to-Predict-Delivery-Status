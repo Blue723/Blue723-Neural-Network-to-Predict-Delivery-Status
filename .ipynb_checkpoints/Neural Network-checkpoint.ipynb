{
 "cells": [
  {
   "cell_type": "code",
   "execution_count": 1,
   "id": "3621de86",
   "metadata": {},
   "outputs": [],
   "source": [
    "import pandas as pd\n",
    "import numpy as np\n",
    "import random\n",
    "import matplotlib.pyplot as plt\n",
    "import seaborn as sns\n",
    "from sklearn.preprocessing import OneHotEncoder\n",
    "from sklearn.preprocessing import StandardScaler\n",
    "from sklearn.model_selection import train_test_split\n",
    "import keras\n",
    "from keras.utils.np_utils import to_categorical\n",
    "from keras import models, layers, optimizers\n",
    "from keras.layers import Dense, Flatten, Conv2D\n",
    "from keras import Model\n",
    "import tensorflow as tf\n",
    "\n",
    "import warnings\n",
    "warnings.filterwarnings('ignore')"
   ]
  },
  {
   "cell_type": "code",
   "execution_count": 2,
   "id": "6bdaa870",
   "metadata": {},
   "outputs": [],
   "source": [
    "df = pd.read_csv('df.csv')\n",
    "df.drop(columns=['Unnamed: 0'], axis=1, inplace=True)"
   ]
  },
  {
   "cell_type": "code",
   "execution_count": 3,
   "id": "b2cd2fb3",
   "metadata": {},
   "outputs": [],
   "source": [
    "df = df.drop(columns=[\n",
    "    'Late_delivery_risk'\n",
    "], axis=1)"
   ]
  },
  {
   "cell_type": "code",
   "execution_count": 4,
   "id": "90e9fc67",
   "metadata": {},
   "outputs": [],
   "source": [
    "df_obj = df.select_dtypes(include='object')\n",
    "df_obj.drop(columns=['Delivery Status'], axis=1, inplace=True)"
   ]
  },
  {
   "cell_type": "code",
   "execution_count": 5,
   "id": "c7679302",
   "metadata": {},
   "outputs": [],
   "source": [
    "#one hot encoder\n",
    "def onehotencoder(col):\n",
    "    \n",
    "    ohe = OneHotEncoder()\n",
    "    ohe_array = ohe.fit_transform((pd.DataFrame(col))).toarray()\n",
    "\n",
    "    feature_labels = np.array(ohe.categories_).ravel()\n",
    "\n",
    "\n",
    "    df_obj = pd.DataFrame(ohe_array, columns=feature_labels)\n",
    "    \n",
    "    return df_obj"
   ]
  },
  {
   "cell_type": "code",
   "execution_count": 6,
   "id": "f967a96c",
   "metadata": {},
   "outputs": [],
   "source": [
    "df_ohe = pd.DataFrame()\n",
    "for c in df_obj.columns:\n",
    "    one_hot = onehotencoder(df_obj[c])\n",
    "    df_ohe = pd.concat([df_ohe, one_hot], axis=1) "
   ]
  },
  {
   "cell_type": "code",
   "execution_count": 7,
   "id": "a9e9ded3",
   "metadata": {},
   "outputs": [],
   "source": [
    "df_cont_var = df.select_dtypes(exclude='object')"
   ]
  },
  {
   "cell_type": "code",
   "execution_count": 8,
   "id": "a0854f0c",
   "metadata": {},
   "outputs": [],
   "source": [
    "df_ohe = pd.concat([df_cont_var, df_ohe], axis=1)"
   ]
  },
  {
   "cell_type": "code",
   "execution_count": 9,
   "id": "d9a65093",
   "metadata": {},
   "outputs": [],
   "source": [
    "df_ohe = pd.concat([df_ohe, df['Delivery Status'] ], axis=1)"
   ]
  },
  {
   "cell_type": "code",
   "execution_count": 10,
   "id": "89c4a67a",
   "metadata": {},
   "outputs": [],
   "source": [
    "df=df_ohe"
   ]
  },
  {
   "cell_type": "code",
   "execution_count": 11,
   "id": "903d2379",
   "metadata": {},
   "outputs": [],
   "source": [
    "df.replace(to_replace=['Shipping on time'], value=0, inplace=True)\n",
    "df.replace(to_replace=['Advance shipping'], value=1, inplace=True)\n",
    "df.replace(to_replace=['Late delivery'], value=2, inplace=True)"
   ]
  },
  {
   "cell_type": "code",
   "execution_count": 12,
   "id": "6a84c8ac",
   "metadata": {},
   "outputs": [],
   "source": [
    "y=df['Delivery Status']\n",
    "y= to_categorical(y)"
   ]
  },
  {
   "cell_type": "code",
   "execution_count": 13,
   "id": "1d2a71a8",
   "metadata": {},
   "outputs": [],
   "source": [
    "# x variable\n",
    "X = df.drop(columns=['Delivery Status'], axis=1)"
   ]
  },
  {
   "cell_type": "code",
   "execution_count": 14,
   "id": "0e63f3a1",
   "metadata": {},
   "outputs": [],
   "source": [
    "X_train, X_val_test, y_train, y_val_test = train_test_split(X[:10000], y[:10000], test_size=.3)"
   ]
  },
  {
   "cell_type": "code",
   "execution_count": 15,
   "id": "c038199b",
   "metadata": {},
   "outputs": [],
   "source": [
    "X_val, X_test, y_val, y_test = train_test_split(X_val_test, y_val_test, test_size=.5)"
   ]
  },
  {
   "cell_type": "code",
   "execution_count": null,
   "id": "e0f70c52",
   "metadata": {},
   "outputs": [],
   "source": []
  },
  {
   "cell_type": "code",
   "execution_count": 16,
   "id": "e3974722",
   "metadata": {},
   "outputs": [],
   "source": [
    "# this is to mix up the data rows\n",
    "#from tensor slices will split the data by featrue value dict \n",
    "# the batch and shuffle\n",
    "train_ds = tf.data.Dataset.from_tensor_slices((X_train, y_train)).shuffle(100).batch(32)\n",
    "\n",
    "test_ds = tf.data.Dataset.from_tensor_slices((X_test, y_test)).batch(32)"
   ]
  },
  {
   "cell_type": "code",
   "execution_count": 17,
   "id": "353ef3c8",
   "metadata": {
    "scrolled": true
   },
   "outputs": [
    {
     "data": {
      "text/plain": [
       "(7000, 139)"
      ]
     },
     "execution_count": 17,
     "metadata": {},
     "output_type": "execute_result"
    }
   ],
   "source": [
    "X_train.shape"
   ]
  },
  {
   "cell_type": "code",
   "execution_count": 22,
   "id": "3fc8c90f",
   "metadata": {},
   "outputs": [],
   "source": [
    "# another way to build model\n",
    "model = keras.Sequential(\n",
    "    [\n",
    "        layers.BatchNormalization(),\n",
    "        layers.Dense(20, activation=\"relu\", name=\"layer1\"),\n",
    "        layers.Dropout(.2, input_shape=y_train.shape),\n",
    "        layers.Dense(10, activation=\"tanh\", name=\"layer2\"),\n",
    "        layers.Dense(3, name=\"layer3\")\n",
    "    ]\n",
    ")"
   ]
  },
  {
   "cell_type": "code",
   "execution_count": 23,
   "id": "aae28afd",
   "metadata": {},
   "outputs": [],
   "source": [
    "model.compile(optimizer='SGD',\n",
    "              loss='categorical_crossentropy',\n",
    "              metrics=['accuracy'])"
   ]
  },
  {
   "cell_type": "code",
   "execution_count": 24,
   "id": "0927381e",
   "metadata": {
    "scrolled": true
   },
   "outputs": [
    {
     "name": "stdout",
     "output_type": "stream",
     "text": [
      "Epoch 1/50\n",
      "219/219 [==============================] - 1s 2ms/step - loss: 1.2707 - accuracy: 0.1844 - val_loss: 0.7516 - val_accuracy: 0.1333\n",
      "Epoch 2/50\n",
      "219/219 [==============================] - 0s 1ms/step - loss: 1.4187 - accuracy: 0.1401 - val_loss: 2.1700 - val_accuracy: 0.1240\n",
      "Epoch 3/50\n",
      "219/219 [==============================] - 0s 1ms/step - loss: 4.0412 - accuracy: 0.1286 - val_loss: 5.4732 - val_accuracy: 0.1267\n",
      "Epoch 4/50\n",
      "219/219 [==============================] - 0s 1ms/step - loss: 5.2307 - accuracy: 0.1236 - val_loss: 5.9171 - val_accuracy: 0.1213\n",
      "Epoch 5/50\n",
      "219/219 [==============================] - 0s 1ms/step - loss: 5.2480 - accuracy: 0.1224 - val_loss: 5.5415 - val_accuracy: 0.1213\n",
      "Epoch 6/50\n",
      "219/219 [==============================] - 0s 1ms/step - loss: 4.2046 - accuracy: 0.1226 - val_loss: 3.6843 - val_accuracy: 0.1240\n",
      "Epoch 7/50\n",
      "219/219 [==============================] - 0s 1ms/step - loss: 2.6500 - accuracy: 0.1251 - val_loss: 3.9426 - val_accuracy: 0.1227\n",
      "Epoch 8/50\n",
      "219/219 [==============================] - 0s 1ms/step - loss: 2.8233 - accuracy: 0.1246 - val_loss: 3.9785 - val_accuracy: 0.1247\n",
      "Epoch 9/50\n",
      "219/219 [==============================] - 0s 1ms/step - loss: 4.0255 - accuracy: 0.1254 - val_loss: 4.0487 - val_accuracy: 0.1247\n",
      "Epoch 10/50\n",
      "219/219 [==============================] - 0s 1ms/step - loss: 3.8613 - accuracy: 0.1253 - val_loss: 3.3218 - val_accuracy: 0.1233\n",
      "Epoch 11/50\n",
      "219/219 [==============================] - 0s 1ms/step - loss: 1.6605 - accuracy: 0.1236 - val_loss: 0.6408 - val_accuracy: 0.1260\n",
      "Epoch 12/50\n",
      "219/219 [==============================] - 0s 1ms/step - loss: 0.7447 - accuracy: 0.1273 - val_loss: 0.6346 - val_accuracy: 0.1220\n",
      "Epoch 13/50\n",
      "219/219 [==============================] - 0s 1ms/step - loss: 0.8514 - accuracy: 0.1219 - val_loss: 0.6449 - val_accuracy: 0.1213\n",
      "Epoch 14/50\n",
      "219/219 [==============================] - 0s 1ms/step - loss: 1.0291 - accuracy: 0.1229 - val_loss: 0.6987 - val_accuracy: 0.1213\n",
      "Epoch 15/50\n",
      "219/219 [==============================] - 0s 1ms/step - loss: 1.2261 - accuracy: 0.1201 - val_loss: 0.8597 - val_accuracy: 0.1233\n",
      "Epoch 16/50\n",
      "219/219 [==============================] - 0s 1ms/step - loss: 1.5031 - accuracy: 0.1191 - val_loss: 1.0750 - val_accuracy: 0.1213\n",
      "Epoch 17/50\n",
      "219/219 [==============================] - 0s 1ms/step - loss: 1.7104 - accuracy: 0.1194 - val_loss: 1.4284 - val_accuracy: 0.1227\n",
      "Epoch 18/50\n",
      "219/219 [==============================] - 0s 1ms/step - loss: 2.0355 - accuracy: 0.1211 - val_loss: 1.8255 - val_accuracy: 0.1233\n",
      "Epoch 19/50\n",
      "219/219 [==============================] - 0s 1ms/step - loss: 2.4010 - accuracy: 0.1193 - val_loss: 2.5874 - val_accuracy: 0.1220\n",
      "Epoch 20/50\n",
      "219/219 [==============================] - 0s 1ms/step - loss: 2.7693 - accuracy: 0.1173 - val_loss: 3.0487 - val_accuracy: 0.1220\n",
      "Epoch 21/50\n",
      "219/219 [==============================] - 0s 1ms/step - loss: 4.0573 - accuracy: 0.1186 - val_loss: 6.4749 - val_accuracy: 0.1220\n",
      "Epoch 22/50\n",
      "219/219 [==============================] - 0s 1ms/step - loss: 5.8538 - accuracy: 0.1193 - val_loss: 5.8410 - val_accuracy: 0.1233\n",
      "Epoch 23/50\n",
      "219/219 [==============================] - 0s 1ms/step - loss: 3.1490 - accuracy: 0.1219 - val_loss: 2.4265 - val_accuracy: 0.1247\n",
      "Epoch 24/50\n",
      "219/219 [==============================] - 0s 1ms/step - loss: 5.3580 - accuracy: 0.1653 - val_loss: 5.8919 - val_accuracy: 0.1953\n",
      "Epoch 25/50\n",
      "219/219 [==============================] - 0s 1ms/step - loss: 5.9259 - accuracy: 0.1880 - val_loss: 5.9228 - val_accuracy: 0.2300\n",
      "Epoch 26/50\n",
      "219/219 [==============================] - 0s 1ms/step - loss: 5.5023 - accuracy: 0.1703 - val_loss: 5.8874 - val_accuracy: 0.1320\n",
      "Epoch 27/50\n",
      "219/219 [==============================] - 0s 1ms/step - loss: 5.4985 - accuracy: 0.1304 - val_loss: 5.8372 - val_accuracy: 0.1280\n",
      "Epoch 28/50\n",
      "219/219 [==============================] - 0s 1ms/step - loss: 5.4492 - accuracy: 0.1220 - val_loss: 5.8140 - val_accuracy: 0.1247\n",
      "Epoch 29/50\n",
      "219/219 [==============================] - 0s 1ms/step - loss: 4.9441 - accuracy: 0.1203 - val_loss: 5.6098 - val_accuracy: 0.1227\n",
      "Epoch 30/50\n",
      "219/219 [==============================] - 0s 1ms/step - loss: 4.7267 - accuracy: 0.1206 - val_loss: 5.6634 - val_accuracy: 0.1227\n",
      "Epoch 31/50\n",
      "219/219 [==============================] - 0s 1ms/step - loss: 4.7058 - accuracy: 0.1209 - val_loss: 5.7704 - val_accuracy: 0.1220\n",
      "Epoch 32/50\n",
      "219/219 [==============================] - 0s 1ms/step - loss: 4.9730 - accuracy: 0.1190 - val_loss: 5.7923 - val_accuracy: 0.1220\n",
      "Epoch 33/50\n",
      "219/219 [==============================] - 0s 1ms/step - loss: 5.0742 - accuracy: 0.1190 - val_loss: 5.7922 - val_accuracy: 0.1233\n",
      "Epoch 34/50\n",
      "219/219 [==============================] - 0s 1ms/step - loss: 5.2865 - accuracy: 0.1210 - val_loss: 5.7915 - val_accuracy: 0.1233\n",
      "Epoch 35/50\n",
      "219/219 [==============================] - 0s 1ms/step - loss: 5.6055 - accuracy: 0.1309 - val_loss: 6.1221 - val_accuracy: 0.2007\n",
      "Epoch 36/50\n",
      "219/219 [==============================] - 0s 1ms/step - loss: 3.9885 - accuracy: 0.2381 - val_loss: 1.1236 - val_accuracy: 0.1960\n",
      "Epoch 37/50\n",
      "219/219 [==============================] - 0s 1ms/step - loss: 1.0808 - accuracy: 0.3577 - val_loss: 1.0251 - val_accuracy: 0.4500\n",
      "Epoch 38/50\n",
      "219/219 [==============================] - 0s 1ms/step - loss: 0.9960 - accuracy: 0.4510 - val_loss: 0.9706 - val_accuracy: 0.4480\n",
      "Epoch 39/50\n",
      "219/219 [==============================] - 0s 1ms/step - loss: 0.9468 - accuracy: 0.4541 - val_loss: 0.9238 - val_accuracy: 0.4480\n",
      "Epoch 40/50\n",
      "219/219 [==============================] - 0s 1ms/step - loss: 0.8853 - accuracy: 0.4536 - val_loss: 0.8368 - val_accuracy: 0.4480\n",
      "Epoch 41/50\n",
      "219/219 [==============================] - 0s 1ms/step - loss: 0.7922 - accuracy: 0.4534 - val_loss: 0.7520 - val_accuracy: 0.4480\n",
      "Epoch 42/50\n",
      "219/219 [==============================] - 0s 1ms/step - loss: 0.7270 - accuracy: 0.4559 - val_loss: 0.7096 - val_accuracy: 0.4480\n",
      "Epoch 43/50\n",
      "219/219 [==============================] - 0s 1ms/step - loss: 0.6912 - accuracy: 0.4524 - val_loss: 0.6707 - val_accuracy: 0.4480\n",
      "Epoch 44/50\n",
      "219/219 [==============================] - 0s 1ms/step - loss: 0.6781 - accuracy: 0.4484 - val_loss: 0.6376 - val_accuracy: 0.4473\n",
      "Epoch 45/50\n",
      "219/219 [==============================] - 0s 1ms/step - loss: 0.6543 - accuracy: 0.4461 - val_loss: 0.6366 - val_accuracy: 0.4473\n",
      "Epoch 46/50\n",
      "219/219 [==============================] - 0s 1ms/step - loss: 0.6822 - accuracy: 0.4484 - val_loss: 0.6403 - val_accuracy: 0.4480\n",
      "Epoch 47/50\n",
      "219/219 [==============================] - 0s 1ms/step - loss: 0.6619 - accuracy: 0.4574 - val_loss: 0.6357 - val_accuracy: 0.4480\n",
      "Epoch 48/50\n",
      "219/219 [==============================] - 0s 1ms/step - loss: 0.6473 - accuracy: 0.4530 - val_loss: 0.6354 - val_accuracy: 0.4480\n",
      "Epoch 49/50\n",
      "219/219 [==============================] - 0s 1ms/step - loss: 0.6513 - accuracy: 0.4530 - val_loss: 0.6349 - val_accuracy: 0.4480\n",
      "Epoch 50/50\n",
      "219/219 [==============================] - 0s 1ms/step - loss: 0.6507 - accuracy: 0.4526 - val_loss: 0.6347 - val_accuracy: 0.4480\n"
     ]
    },
    {
     "data": {
      "text/plain": [
       "<keras.callbacks.History at 0x16101affca0>"
      ]
     },
     "execution_count": 24,
     "metadata": {},
     "output_type": "execute_result"
    }
   ],
   "source": [
    "model.fit(\n",
    "    train_ds,\n",
    "    epochs=50,\n",
    "    batch_size=100,\n",
    "    validation_data=(X_val, y_val)\n",
    ")"
   ]
  },
  {
   "cell_type": "code",
   "execution_count": 25,
   "id": "df8f2fa2",
   "metadata": {},
   "outputs": [
    {
     "name": "stdout",
     "output_type": "stream",
     "text": [
      "47/47 [==============================] - 0s 1ms/step - loss: 0.6348 - accuracy: 0.4567\n"
     ]
    },
    {
     "data": {
      "text/plain": [
       "[0.6347612738609314, 0.4566666781902313]"
      ]
     },
     "execution_count": 25,
     "metadata": {},
     "output_type": "execute_result"
    }
   ],
   "source": [
    "model.evaluate(test_ds)"
   ]
  },
  {
   "cell_type": "code",
   "execution_count": null,
   "id": "912a6751",
   "metadata": {},
   "outputs": [],
   "source": [
    "#changing code for git"
   ]
  },
  {
   "cell_type": "code",
   "execution_count": null,
   "id": "b0c8f7b4",
   "metadata": {},
   "outputs": [],
   "source": []
  }
 ],
 "metadata": {
  "kernelspec": {
   "display_name": "Python 3",
   "language": "python",
   "name": "python3"
  },
  "language_info": {
   "codemirror_mode": {
    "name": "ipython",
    "version": 3
   },
   "file_extension": ".py",
   "mimetype": "text/x-python",
   "name": "python",
   "nbconvert_exporter": "python",
   "pygments_lexer": "ipython3",
   "version": "3.8.8"
  }
 },
 "nbformat": 4,
 "nbformat_minor": 5
}
