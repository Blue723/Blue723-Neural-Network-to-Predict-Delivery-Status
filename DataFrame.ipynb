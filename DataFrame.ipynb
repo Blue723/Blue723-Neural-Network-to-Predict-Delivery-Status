{
 "cells": [
  {
   "cell_type": "code",
   "execution_count": 1,
   "id": "7b134ad4",
   "metadata": {},
   "outputs": [],
   "source": [
    "import pandas as pd\n",
    "import numpy as np\n",
    "import seaborn as sns\n",
    "from datetime import datetime\n",
    "from sklearn.preprocessing import OneHotEncoder\n",
    "\n",
    "import warnings\n",
    "warnings.filterwarnings('ignore')"
   ]
  },
  {
   "cell_type": "code",
   "execution_count": 2,
   "id": "4fb95073",
   "metadata": {},
   "outputs": [],
   "source": [
    "df = pd.read_csv('Supply Chain Data/DataCoSupplyChainDataset.csv')"
   ]
  },
  {
   "cell_type": "code",
   "execution_count": 3,
   "id": "97282867",
   "metadata": {},
   "outputs": [
    {
     "data": {
      "text/plain": [
       "Late delivery        98977\n",
       "Advance shipping     41592\n",
       "Shipping on time     32196\n",
       "Shipping canceled     7754\n",
       "Name: Delivery Status, dtype: int64"
      ]
     },
     "execution_count": 3,
     "metadata": {},
     "output_type": "execute_result"
    }
   ],
   "source": [
    "# y value delivery status, categorically able to predict if a delivery is\n",
    "# late, advanced/ a head of schedule, on time, or was canceled. \n",
    "df['Delivery Status'].value_counts()"
   ]
  },
  {
   "cell_type": "code",
   "execution_count": 4,
   "id": "34269803",
   "metadata": {},
   "outputs": [],
   "source": [
    "df.drop(columns=[\n",
    "    'Category Name',\n",
    "    'Customer City',\n",
    "    'Customer Country',\n",
    "    'Customer Email',\n",
    "    'Customer Fname',\n",
    "    'Customer Id',\n",
    "    'Customer Lname',\n",
    "    'Customer Password',\n",
    "    'Customer Street',\n",
    "    'Order Item Cardprod Id',\n",
    "    'Product Card Id',\n",
    "    'Product Category Id',\n",
    "    'Product Description',\n",
    "    'Product Status',\n",
    "    'Product Image',\n",
    "    'Product Name',\n",
    "    'Order Zipcode'\n",
    "], axis=1, inplace=True)"
   ]
  },
  {
   "cell_type": "code",
   "execution_count": 5,
   "id": "6abce4d0",
   "metadata": {},
   "outputs": [
    {
     "name": "stdout",
     "output_type": "stream",
     "text": [
      "Type\n",
      "0\n",
      "Days for shipping (real)\n",
      "0\n",
      "Days for shipment (scheduled)\n",
      "0\n",
      "Benefit per order\n",
      "0\n",
      "Sales per customer\n",
      "0\n",
      "Delivery Status\n",
      "0\n",
      "Late_delivery_risk\n",
      "0\n",
      "Category Id\n",
      "0\n",
      "Customer Segment\n",
      "0\n",
      "Customer State\n",
      "0\n",
      "Customer Zipcode\n",
      "3\n",
      "Department Id\n",
      "0\n",
      "Department Name\n",
      "0\n",
      "Latitude\n",
      "0\n",
      "Longitude\n",
      "0\n",
      "Market\n",
      "0\n",
      "Order City\n",
      "0\n",
      "Order Country\n",
      "0\n",
      "Order Customer Id\n",
      "0\n",
      "order date (DateOrders)\n",
      "0\n",
      "Order Id\n",
      "0\n",
      "Order Item Discount\n",
      "0\n",
      "Order Item Discount Rate\n",
      "0\n",
      "Order Item Id\n",
      "0\n",
      "Order Item Product Price\n",
      "0\n",
      "Order Item Profit Ratio\n",
      "0\n",
      "Order Item Quantity\n",
      "0\n",
      "Sales\n",
      "0\n",
      "Order Item Total\n",
      "0\n",
      "Order Profit Per Order\n",
      "0\n",
      "Order Region\n",
      "0\n",
      "Order State\n",
      "0\n",
      "Order Status\n",
      "0\n",
      "Product Price\n",
      "0\n",
      "shipping date (DateOrders)\n",
      "0\n",
      "Shipping Mode\n",
      "0\n"
     ]
    }
   ],
   "source": [
    "for c in df.columns:\n",
    "    print(c)\n",
    "    print(df[c].isna().sum())"
   ]
  },
  {
   "cell_type": "code",
   "execution_count": 6,
   "id": "ea67ea22",
   "metadata": {},
   "outputs": [
    {
     "data": {
      "text/html": [
       "<div>\n",
       "<style scoped>\n",
       "    .dataframe tbody tr th:only-of-type {\n",
       "        vertical-align: middle;\n",
       "    }\n",
       "\n",
       "    .dataframe tbody tr th {\n",
       "        vertical-align: top;\n",
       "    }\n",
       "\n",
       "    .dataframe thead th {\n",
       "        text-align: right;\n",
       "    }\n",
       "</style>\n",
       "<table border=\"1\" class=\"dataframe\">\n",
       "  <thead>\n",
       "    <tr style=\"text-align: right;\">\n",
       "      <th></th>\n",
       "      <th>Type</th>\n",
       "      <th>Days for shipping (real)</th>\n",
       "      <th>Days for shipment (scheduled)</th>\n",
       "      <th>Benefit per order</th>\n",
       "      <th>Sales per customer</th>\n",
       "      <th>Delivery Status</th>\n",
       "      <th>Late_delivery_risk</th>\n",
       "      <th>Category Id</th>\n",
       "      <th>Customer Segment</th>\n",
       "      <th>Customer State</th>\n",
       "      <th>...</th>\n",
       "      <th>Order Item Quantity</th>\n",
       "      <th>Sales</th>\n",
       "      <th>Order Item Total</th>\n",
       "      <th>Order Profit Per Order</th>\n",
       "      <th>Order Region</th>\n",
       "      <th>Order State</th>\n",
       "      <th>Order Status</th>\n",
       "      <th>Product Price</th>\n",
       "      <th>shipping date (DateOrders)</th>\n",
       "      <th>Shipping Mode</th>\n",
       "    </tr>\n",
       "  </thead>\n",
       "  <tbody>\n",
       "    <tr>\n",
       "      <th>35704</th>\n",
       "      <td>DEBIT</td>\n",
       "      <td>2</td>\n",
       "      <td>1</td>\n",
       "      <td>66.379997</td>\n",
       "      <td>189.660004</td>\n",
       "      <td>Late delivery</td>\n",
       "      <td>1</td>\n",
       "      <td>65</td>\n",
       "      <td>Consumer</td>\n",
       "      <td>95758</td>\n",
       "      <td>...</td>\n",
       "      <td>1</td>\n",
       "      <td>252.880005</td>\n",
       "      <td>189.660004</td>\n",
       "      <td>66.379997</td>\n",
       "      <td>Western Europe</td>\n",
       "      <td>Auvernia-R�dano-Alpes</td>\n",
       "      <td>COMPLETE</td>\n",
       "      <td>252.880005</td>\n",
       "      <td>11/4/2017 18:31</td>\n",
       "      <td>First Class</td>\n",
       "    </tr>\n",
       "    <tr>\n",
       "      <th>46440</th>\n",
       "      <td>PAYMENT</td>\n",
       "      <td>4</td>\n",
       "      <td>4</td>\n",
       "      <td>10.910000</td>\n",
       "      <td>38.959999</td>\n",
       "      <td>Shipping on time</td>\n",
       "      <td>0</td>\n",
       "      <td>75</td>\n",
       "      <td>Corporate</td>\n",
       "      <td>95758</td>\n",
       "      <td>...</td>\n",
       "      <td>1</td>\n",
       "      <td>39.750000</td>\n",
       "      <td>38.959999</td>\n",
       "      <td>10.910000</td>\n",
       "      <td>Southeast Asia</td>\n",
       "      <td>Capital Nacional</td>\n",
       "      <td>PENDING_PAYMENT</td>\n",
       "      <td>39.750000</td>\n",
       "      <td>12/14/2017 15:18</td>\n",
       "      <td>Standard Class</td>\n",
       "    </tr>\n",
       "    <tr>\n",
       "      <th>82511</th>\n",
       "      <td>DEBIT</td>\n",
       "      <td>4</td>\n",
       "      <td>4</td>\n",
       "      <td>59.990002</td>\n",
       "      <td>299.959992</td>\n",
       "      <td>Shipping on time</td>\n",
       "      <td>0</td>\n",
       "      <td>63</td>\n",
       "      <td>Consumer</td>\n",
       "      <td>91732</td>\n",
       "      <td>...</td>\n",
       "      <td>1</td>\n",
       "      <td>357.100006</td>\n",
       "      <td>299.959992</td>\n",
       "      <td>59.990002</td>\n",
       "      <td>Northern Europe</td>\n",
       "      <td>Inglaterra</td>\n",
       "      <td>COMPLETE</td>\n",
       "      <td>357.100006</td>\n",
       "      <td>10/30/2017 0:29</td>\n",
       "      <td>Standard Class</td>\n",
       "    </tr>\n",
       "  </tbody>\n",
       "</table>\n",
       "<p>3 rows × 36 columns</p>\n",
       "</div>"
      ],
      "text/plain": [
       "          Type  Days for shipping (real)  Days for shipment (scheduled)  \\\n",
       "35704    DEBIT                         2                              1   \n",
       "46440  PAYMENT                         4                              4   \n",
       "82511    DEBIT                         4                              4   \n",
       "\n",
       "       Benefit per order  Sales per customer   Delivery Status  \\\n",
       "35704          66.379997          189.660004     Late delivery   \n",
       "46440          10.910000           38.959999  Shipping on time   \n",
       "82511          59.990002          299.959992  Shipping on time   \n",
       "\n",
       "       Late_delivery_risk  Category Id Customer Segment Customer State  ...  \\\n",
       "35704                   1           65         Consumer          95758  ...   \n",
       "46440                   0           75        Corporate          95758  ...   \n",
       "82511                   0           63         Consumer          91732  ...   \n",
       "\n",
       "       Order Item Quantity       Sales Order Item Total  \\\n",
       "35704                    1  252.880005       189.660004   \n",
       "46440                    1   39.750000        38.959999   \n",
       "82511                    1  357.100006       299.959992   \n",
       "\n",
       "       Order Profit Per Order     Order Region            Order State  \\\n",
       "35704               66.379997   Western Europe  Auvernia-R�dano-Alpes   \n",
       "46440               10.910000   Southeast Asia       Capital Nacional   \n",
       "82511               59.990002  Northern Europe             Inglaterra   \n",
       "\n",
       "          Order Status Product Price  shipping date (DateOrders)  \\\n",
       "35704         COMPLETE    252.880005             11/4/2017 18:31   \n",
       "46440  PENDING_PAYMENT     39.750000            12/14/2017 15:18   \n",
       "82511         COMPLETE    357.100006             10/30/2017 0:29   \n",
       "\n",
       "        Shipping Mode  \n",
       "35704     First Class  \n",
       "46440  Standard Class  \n",
       "82511  Standard Class  \n",
       "\n",
       "[3 rows x 36 columns]"
      ]
     },
     "execution_count": 6,
     "metadata": {},
     "output_type": "execute_result"
    }
   ],
   "source": [
    "df[df['Customer Zipcode'].isna() == True]"
   ]
  },
  {
   "cell_type": "code",
   "execution_count": 7,
   "id": "2e821a67",
   "metadata": {},
   "outputs": [],
   "source": [
    "#clean customer zipcode\n",
    "df.drop(index=[35704, 46440, 82511], axis=0, inplace=True)"
   ]
  },
  {
   "cell_type": "markdown",
   "id": "177ad5ca",
   "metadata": {},
   "source": [
    "##### Converting Date to Year-Month"
   ]
  },
  {
   "cell_type": "code",
   "execution_count": 8,
   "id": "8e8feb8e",
   "metadata": {},
   "outputs": [],
   "source": [
    "#order date\n",
    "date_od = pd.to_datetime(pd.Series(df['order date (DateOrders)'], )).dt.strftime('%Y-%m')"
   ]
  },
  {
   "cell_type": "code",
   "execution_count": 9,
   "id": "40e49734",
   "metadata": {},
   "outputs": [],
   "source": [
    "df = pd.concat([df, date_od], axis=1)\n",
    "df['order date y-m'] = df['order date (DateOrders)'].iloc[:, 1]\n",
    "df.drop(columns=['order date (DateOrders)'], axis=1, inplace=True)"
   ]
  },
  {
   "cell_type": "code",
   "execution_count": 10,
   "id": "f0ba1b78",
   "metadata": {},
   "outputs": [],
   "source": [
    "#shipping date\n",
    "date_sd = pd.to_datetime(pd.Series(df['shipping date (DateOrders)'])).dt.strftime('%Y-%m')"
   ]
  },
  {
   "cell_type": "code",
   "execution_count": 11,
   "id": "037e4444",
   "metadata": {},
   "outputs": [],
   "source": [
    "df = pd.concat([df, date_sd], axis=1)\n",
    "df['shipping date y-m'] = df['shipping date (DateOrders)'].iloc[:, 1]\n",
    "df.drop(columns=['shipping date (DateOrders)'], axis=1, inplace=True)"
   ]
  },
  {
   "cell_type": "code",
   "execution_count": 12,
   "id": "14c96f25",
   "metadata": {},
   "outputs": [],
   "source": [
    "df = df[df['Delivery Status'] != 'Shipping canceled' ]"
   ]
  },
  {
   "cell_type": "code",
   "execution_count": 13,
   "id": "aa605acd",
   "metadata": {},
   "outputs": [],
   "source": [
    "df.reset_index(drop=True, inplace=True)"
   ]
  },
  {
   "cell_type": "code",
   "execution_count": 14,
   "id": "f96866f6",
   "metadata": {},
   "outputs": [],
   "source": [
    "df.dropna(axis=0, inplace=True)"
   ]
  },
  {
   "cell_type": "code",
   "execution_count": null,
   "id": "ba30a4b9",
   "metadata": {},
   "outputs": [],
   "source": []
  },
  {
   "cell_type": "code",
   "execution_count": 16,
   "id": "4ecf99d0",
   "metadata": {},
   "outputs": [],
   "source": [
    "df.sort_values(by=['order date y-m', 'shipping date y-m'], inplace=True)"
   ]
  },
  {
   "cell_type": "code",
   "execution_count": 17,
   "id": "85cee268",
   "metadata": {},
   "outputs": [],
   "source": [
    "df = df[df['Delivery Status'] != 'Shipping canceled' ]"
   ]
  },
  {
   "cell_type": "code",
   "execution_count": 18,
   "id": "b54a9e1d",
   "metadata": {},
   "outputs": [],
   "source": [
    "df.reset_index(drop=True, inplace=True)"
   ]
  },
  {
   "cell_type": "code",
   "execution_count": 19,
   "id": "e5d348d1",
   "metadata": {},
   "outputs": [],
   "source": [
    "df.dropna(axis=0, inplace=True)"
   ]
  },
  {
   "cell_type": "code",
   "execution_count": 20,
   "id": "af36a70c",
   "metadata": {},
   "outputs": [],
   "source": [
    "df = df.drop(columns=[\n",
    "    'Days for shipping (real)',\n",
    "    'Benefit per order',\n",
    "    'Category Id',\n",
    "    'Customer State',\n",
    "    'Order State',\n",
    "    'Order Item Total',\n",
    "    'Order Customer Id',\n",
    "    'Order Id',\n",
    "    'Order City',\n",
    "    'Order Country',\n",
    "    'Order Status',\n",
    "    'Product Price',\n",
    "], axis=1)"
   ]
  },
  {
   "cell_type": "code",
   "execution_count": 21,
   "id": "e738638d",
   "metadata": {},
   "outputs": [],
   "source": [
    "df.to_csv('df.csv')"
   ]
  },
  {
   "cell_type": "code",
   "execution_count": null,
   "id": "ce3897a7",
   "metadata": {},
   "outputs": [],
   "source": []
  }
 ],
 "metadata": {
  "kernelspec": {
   "display_name": "Python 3",
   "language": "python",
   "name": "python3"
  },
  "language_info": {
   "codemirror_mode": {
    "name": "ipython",
    "version": 3
   },
   "file_extension": ".py",
   "mimetype": "text/x-python",
   "name": "python",
   "nbconvert_exporter": "python",
   "pygments_lexer": "ipython3",
   "version": "3.8.8"
  }
 },
 "nbformat": 4,
 "nbformat_minor": 5
}
