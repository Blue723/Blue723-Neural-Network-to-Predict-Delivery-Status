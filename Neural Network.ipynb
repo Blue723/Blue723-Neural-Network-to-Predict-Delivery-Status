{
 "cells": [
  {
   "cell_type": "code",
   "execution_count": 1,
   "id": "3621de86",
   "metadata": {},
   "outputs": [],
   "source": [
    "import pandas as pd\n",
    "import numpy as np\n",
    "import random\n",
    "import matplotlib.pyplot as plt\n",
    "import seaborn as sns\n",
    "from sklearn.preprocessing import OneHotEncoder\n",
    "from sklearn.preprocessing import StandardScaler\n",
    "from sklearn.model_selection import train_test_split\n",
    "import keras\n",
    "from keras.utils.np_utils import to_categorical\n",
    "from keras import models, layers, optimizers\n",
    "from keras.layers import Dense, Flatten, Conv2D\n",
    "from keras import Model\n",
    "import tensorflow as tf\n",
    "\n",
    "import warnings\n",
    "warnings.filterwarnings('ignore')"
   ]
  },
  {
   "cell_type": "code",
   "execution_count": 2,
   "id": "6bdaa870",
   "metadata": {},
   "outputs": [],
   "source": [
    "df = pd.read_csv('df.csv')\n",
    "df.drop(columns=['Unnamed: 0'], axis=1, inplace=True)"
   ]
  },
  {
   "cell_type": "code",
   "execution_count": 3,
   "id": "b2cd2fb3",
   "metadata": {},
   "outputs": [],
   "source": [
    "df = df.drop(columns=[\n",
    "    'Late_delivery_risk'\n",
    "], axis=1)"
   ]
  },
  {
   "cell_type": "code",
   "execution_count": 4,
   "id": "90e9fc67",
   "metadata": {},
   "outputs": [],
   "source": [
    "df_obj = df.select_dtypes(include='object')\n",
    "df_obj.drop(columns=['Delivery Status'], axis=1, inplace=True)"
   ]
  },
  {
   "cell_type": "code",
   "execution_count": 5,
   "id": "c7679302",
   "metadata": {},
   "outputs": [],
   "source": [
    "#one hot encoder\n",
    "def onehotencoder(col):\n",
    "    \n",
    "    ohe = OneHotEncoder()\n",
    "    ohe_array = ohe.fit_transform((pd.DataFrame(col))).toarray()\n",
    "\n",
    "    feature_labels = np.array(ohe.categories_).ravel()\n",
    "\n",
    "\n",
    "    df_obj = pd.DataFrame(ohe_array, columns=feature_labels)\n",
    "    \n",
    "    return df_obj"
   ]
  },
  {
   "cell_type": "code",
   "execution_count": 6,
   "id": "f967a96c",
   "metadata": {},
   "outputs": [],
   "source": [
    "df_ohe = pd.DataFrame()\n",
    "for c in df_obj.columns:\n",
    "    one_hot = onehotencoder(df_obj[c])\n",
    "    df_ohe = pd.concat([df_ohe, one_hot], axis=1) "
   ]
  },
  {
   "cell_type": "code",
   "execution_count": 7,
   "id": "a9e9ded3",
   "metadata": {},
   "outputs": [],
   "source": [
    "df_cont_var = df.select_dtypes(exclude='object')"
   ]
  },
  {
   "cell_type": "code",
   "execution_count": 8,
   "id": "a0854f0c",
   "metadata": {},
   "outputs": [],
   "source": [
    "df_ohe = pd.concat([df_cont_var, df_ohe], axis=1)"
   ]
  },
  {
   "cell_type": "code",
   "execution_count": 9,
   "id": "d9a65093",
   "metadata": {},
   "outputs": [],
   "source": [
    "df_ohe = pd.concat([df_ohe, df['Delivery Status'] ], axis=1)"
   ]
  },
  {
   "cell_type": "code",
   "execution_count": 10,
   "id": "89c4a67a",
   "metadata": {},
   "outputs": [],
   "source": [
    "df=df_ohe"
   ]
  },
  {
   "cell_type": "code",
   "execution_count": 11,
   "id": "903d2379",
   "metadata": {},
   "outputs": [],
   "source": [
    "df.replace(to_replace=['Shipping on time'], value=0, inplace=True)\n",
    "df.replace(to_replace=['Advance shipping'], value=1, inplace=True)\n",
    "df.replace(to_replace=['Late delivery'], value=2, inplace=True)"
   ]
  },
  {
   "cell_type": "code",
   "execution_count": 12,
   "id": "6a84c8ac",
   "metadata": {},
   "outputs": [],
   "source": [
    "y=df['Delivery Status']\n",
    "y= to_categorical(y)"
   ]
  },
  {
   "cell_type": "code",
   "execution_count": 13,
   "id": "1d2a71a8",
   "metadata": {},
   "outputs": [],
   "source": [
    "# x variable\n",
    "X = df.drop(columns=['Delivery Status'], axis=1)"
   ]
  },
  {
   "cell_type": "code",
   "execution_count": 14,
   "id": "0e63f3a1",
   "metadata": {},
   "outputs": [],
   "source": [
    "X_train, X_val_test, y_train, y_val_test = train_test_split(X[:10000], y[:10000], test_size=.3)"
   ]
  },
  {
   "cell_type": "code",
   "execution_count": 15,
   "id": "c038199b",
   "metadata": {},
   "outputs": [],
   "source": [
    "X_val, X_test, y_val, y_test = train_test_split(X_val_test, y_val_test, test_size=.5)"
   ]
  },
  {
   "cell_type": "code",
   "execution_count": null,
   "id": "e0f70c52",
   "metadata": {},
   "outputs": [],
   "source": []
  },
  {
   "cell_type": "code",
   "execution_count": 16,
   "id": "e3974722",
   "metadata": {},
   "outputs": [],
   "source": [
    "# this is to mix up the data rows\n",
    "#from tensor slices will split the data by featrue value dict \n",
    "# the batch and shuffle\n",
    "train_ds = tf.data.Dataset.from_tensor_slices((X_train, y_train)).shuffle(10000).batch(32)\n",
    "\n",
    "test_ds = tf.data.Dataset.from_tensor_slices((X_test, y_test)).batch(32)"
   ]
  },
  {
   "cell_type": "code",
   "execution_count": null,
   "id": "353ef3c8",
   "metadata": {},
   "outputs": [],
   "source": []
  },
  {
   "cell_type": "code",
   "execution_count": 17,
   "id": "3fc8c90f",
   "metadata": {},
   "outputs": [],
   "source": [
    "# another way to build model\n",
    "model = keras.Sequential(\n",
    "    [\n",
    "        layers.Dense(20, activation=\"relu\", name=\"layer1\"),\n",
    "        layers.Dense(10, activation=\"sigmoid\", name=\"layer2\"),\n",
    "        layers.Dense(3, name=\"layer3\")\n",
    "    ]\n",
    ")"
   ]
  },
  {
   "cell_type": "code",
   "execution_count": 18,
   "id": "aae28afd",
   "metadata": {},
   "outputs": [],
   "source": [
    "model.compile(optimizer='SGD',\n",
    "              loss='categorical_crossentropy',\n",
    "              metrics=['accuracy'])"
   ]
  },
  {
   "cell_type": "code",
   "execution_count": 19,
   "id": "0927381e",
   "metadata": {
    "scrolled": true
   },
   "outputs": [
    {
     "name": "stdout",
     "output_type": "stream",
     "text": [
      "Epoch 1/50\n",
      "219/219 [==============================] - 1s 2ms/step - loss: 4.2598 - accuracy: 0.5649 - val_loss: 3.0409 - val_accuracy: 0.5773\n",
      "Epoch 2/50\n",
      "219/219 [==============================] - 0s 987us/step - loss: 3.0049 - accuracy: 0.5649 - val_loss: 3.0409 - val_accuracy: 0.5773\n",
      "Epoch 3/50\n",
      "219/219 [==============================] - 0s 1ms/step - loss: 3.0049 - accuracy: 0.5649 - val_loss: 3.0409 - val_accuracy: 0.5773\n",
      "Epoch 4/50\n",
      "219/219 [==============================] - 0s 969us/step - loss: 3.0049 - accuracy: 0.5649 - val_loss: 3.0409 - val_accuracy: 0.5773\n",
      "Epoch 5/50\n",
      "219/219 [==============================] - 0s 958us/step - loss: 3.0049 - accuracy: 0.5649 - val_loss: 3.0409 - val_accuracy: 0.5773\n",
      "Epoch 6/50\n",
      "219/219 [==============================] - 0s 981us/step - loss: 3.0049 - accuracy: 0.5649 - val_loss: 3.0409 - val_accuracy: 0.5773\n",
      "Epoch 7/50\n",
      "219/219 [==============================] - 0s 1ms/step - loss: 3.0049 - accuracy: 0.5649 - val_loss: 3.0409 - val_accuracy: 0.5773\n",
      "Epoch 8/50\n",
      "219/219 [==============================] - 0s 980us/step - loss: 3.0049 - accuracy: 0.5649 - val_loss: 3.0409 - val_accuracy: 0.5773\n",
      "Epoch 9/50\n",
      "219/219 [==============================] - 0s 957us/step - loss: 3.0049 - accuracy: 0.5649 - val_loss: 3.0409 - val_accuracy: 0.5773\n",
      "Epoch 10/50\n",
      "219/219 [==============================] - 0s 989us/step - loss: 3.0049 - accuracy: 0.5649 - val_loss: 3.0409 - val_accuracy: 0.5773\n",
      "Epoch 11/50\n",
      "219/219 [==============================] - 0s 1ms/step - loss: 3.0049 - accuracy: 0.5649 - val_loss: 3.0409 - val_accuracy: 0.5773\n",
      "Epoch 12/50\n",
      "219/219 [==============================] - 0s 1ms/step - loss: 3.0049 - accuracy: 0.5649 - val_loss: 3.0409 - val_accuracy: 0.5773\n",
      "Epoch 13/50\n",
      "219/219 [==============================] - 0s 947us/step - loss: 3.0049 - accuracy: 0.5649 - val_loss: 3.0409 - val_accuracy: 0.5773\n",
      "Epoch 14/50\n",
      "219/219 [==============================] - 0s 973us/step - loss: 3.0049 - accuracy: 0.5649 - val_loss: 3.0409 - val_accuracy: 0.5773\n",
      "Epoch 15/50\n",
      "219/219 [==============================] - 0s 1000us/step - loss: 3.0049 - accuracy: 0.5649 - val_loss: 3.0409 - val_accuracy: 0.5773\n",
      "Epoch 16/50\n",
      "219/219 [==============================] - 0s 968us/step - loss: 3.0049 - accuracy: 0.5649 - val_loss: 3.0409 - val_accuracy: 0.5773\n",
      "Epoch 17/50\n",
      "219/219 [==============================] - 0s 974us/step - loss: 3.0049 - accuracy: 0.5649 - val_loss: 3.0409 - val_accuracy: 0.5773\n",
      "Epoch 18/50\n",
      "219/219 [==============================] - 0s 982us/step - loss: 3.0049 - accuracy: 0.5649 - val_loss: 3.0409 - val_accuracy: 0.5773\n",
      "Epoch 19/50\n",
      "219/219 [==============================] - 0s 1ms/step - loss: 3.0049 - accuracy: 0.5649 - val_loss: 3.0409 - val_accuracy: 0.5773\n",
      "Epoch 20/50\n",
      "219/219 [==============================] - 0s 988us/step - loss: 3.0049 - accuracy: 0.5649 - val_loss: 3.0409 - val_accuracy: 0.5773\n",
      "Epoch 21/50\n",
      "219/219 [==============================] - 0s 945us/step - loss: 3.0049 - accuracy: 0.5649 - val_loss: 3.0409 - val_accuracy: 0.5773\n",
      "Epoch 22/50\n",
      "219/219 [==============================] - 0s 980us/step - loss: 3.0049 - accuracy: 0.5649 - val_loss: 3.0409 - val_accuracy: 0.5773\n",
      "Epoch 23/50\n",
      "219/219 [==============================] - 0s 962us/step - loss: 3.0049 - accuracy: 0.5649 - val_loss: 3.0409 - val_accuracy: 0.5773\n",
      "Epoch 24/50\n",
      "219/219 [==============================] - 0s 990us/step - loss: 3.0049 - accuracy: 0.5649 - val_loss: 3.0409 - val_accuracy: 0.5773\n",
      "Epoch 25/50\n",
      "219/219 [==============================] - 0s 952us/step - loss: 3.0049 - accuracy: 0.5649 - val_loss: 3.0409 - val_accuracy: 0.5773\n",
      "Epoch 26/50\n",
      "219/219 [==============================] - 0s 999us/step - loss: 3.0049 - accuracy: 0.5649 - val_loss: 3.0409 - val_accuracy: 0.5773\n",
      "Epoch 27/50\n",
      "219/219 [==============================] - 0s 991us/step - loss: 3.0049 - accuracy: 0.5649 - val_loss: 3.0409 - val_accuracy: 0.5773\n",
      "Epoch 28/50\n",
      "219/219 [==============================] - 0s 1ms/step - loss: 3.0049 - accuracy: 0.5649 - val_loss: 3.0409 - val_accuracy: 0.5773\n",
      "Epoch 29/50\n",
      "219/219 [==============================] - 0s 949us/step - loss: 3.0049 - accuracy: 0.5649 - val_loss: 3.0409 - val_accuracy: 0.5773\n",
      "Epoch 30/50\n",
      "219/219 [==============================] - 0s 946us/step - loss: 3.0049 - accuracy: 0.5649 - val_loss: 3.0409 - val_accuracy: 0.5773\n",
      "Epoch 31/50\n",
      "219/219 [==============================] - 0s 980us/step - loss: 3.0049 - accuracy: 0.5649 - val_loss: 3.0409 - val_accuracy: 0.5773\n",
      "Epoch 32/50\n",
      "219/219 [==============================] - 0s 990us/step - loss: 3.0049 - accuracy: 0.5649 - val_loss: 3.0409 - val_accuracy: 0.5773\n",
      "Epoch 33/50\n",
      "219/219 [==============================] - 0s 956us/step - loss: 3.0049 - accuracy: 0.5649 - val_loss: 3.0409 - val_accuracy: 0.5773\n",
      "Epoch 34/50\n",
      "219/219 [==============================] - 0s 981us/step - loss: 3.0049 - accuracy: 0.5649 - val_loss: 3.0409 - val_accuracy: 0.5773\n",
      "Epoch 35/50\n",
      "219/219 [==============================] - 0s 988us/step - loss: 3.0049 - accuracy: 0.5649 - val_loss: 3.0409 - val_accuracy: 0.5773\n",
      "Epoch 36/50\n",
      "219/219 [==============================] - 0s 1ms/step - loss: 3.0049 - accuracy: 0.5649 - val_loss: 3.0409 - val_accuracy: 0.5773\n",
      "Epoch 37/50\n",
      "219/219 [==============================] - 0s 985us/step - loss: 3.0049 - accuracy: 0.5649 - val_loss: 3.0409 - val_accuracy: 0.5773\n",
      "Epoch 38/50\n",
      "219/219 [==============================] - 0s 1ms/step - loss: 3.0049 - accuracy: 0.5649 - val_loss: 3.0409 - val_accuracy: 0.5773\n",
      "Epoch 39/50\n",
      "219/219 [==============================] - 0s 1ms/step - loss: 3.0049 - accuracy: 0.5649 - val_loss: 3.0409 - val_accuracy: 0.5773\n",
      "Epoch 40/50\n",
      "219/219 [==============================] - 0s 1ms/step - loss: 3.0049 - accuracy: 0.5649 - val_loss: 3.0409 - val_accuracy: 0.5773\n",
      "Epoch 41/50\n",
      "219/219 [==============================] - 0s 963us/step - loss: 3.0049 - accuracy: 0.5649 - val_loss: 3.0409 - val_accuracy: 0.5773\n",
      "Epoch 42/50\n",
      "219/219 [==============================] - 0s 989us/step - loss: 3.0049 - accuracy: 0.5649 - val_loss: 3.0409 - val_accuracy: 0.5773\n",
      "Epoch 43/50\n",
      "219/219 [==============================] - 0s 1ms/step - loss: 3.0049 - accuracy: 0.5649 - val_loss: 3.0409 - val_accuracy: 0.5773\n",
      "Epoch 44/50\n",
      "219/219 [==============================] - 0s 994us/step - loss: 3.0049 - accuracy: 0.5649 - val_loss: 3.0409 - val_accuracy: 0.5773\n",
      "Epoch 45/50\n",
      "219/219 [==============================] - 0s 1ms/step - loss: 3.0049 - accuracy: 0.5649 - val_loss: 3.0409 - val_accuracy: 0.5773\n",
      "Epoch 46/50\n",
      "219/219 [==============================] - 0s 950us/step - loss: 3.0049 - accuracy: 0.5649 - val_loss: 3.0409 - val_accuracy: 0.5773\n",
      "Epoch 47/50\n",
      "219/219 [==============================] - 0s 945us/step - loss: 3.0049 - accuracy: 0.5649 - val_loss: 3.0409 - val_accuracy: 0.5773\n",
      "Epoch 48/50\n",
      "219/219 [==============================] - 0s 979us/step - loss: 3.0049 - accuracy: 0.5649 - val_loss: 3.0409 - val_accuracy: 0.5773\n",
      "Epoch 49/50\n",
      "219/219 [==============================] - 0s 983us/step - loss: 3.0049 - accuracy: 0.5649 - val_loss: 3.0409 - val_accuracy: 0.5773\n",
      "Epoch 50/50\n",
      "219/219 [==============================] - 0s 1ms/step - loss: 3.0049 - accuracy: 0.5649 - val_loss: 3.0409 - val_accuracy: 0.5773\n"
     ]
    },
    {
     "data": {
      "text/plain": [
       "<keras.callbacks.History at 0x18ccb5dc190>"
      ]
     },
     "execution_count": 19,
     "metadata": {},
     "output_type": "execute_result"
    }
   ],
   "source": [
    "model.fit(\n",
    "    train_ds,\n",
    "    epochs=50,\n",
    "    batch_size=250,\n",
    "    validation_data=(X_val, y_val)\n",
    ")"
   ]
  },
  {
   "cell_type": "code",
   "execution_count": 20,
   "id": "df8f2fa2",
   "metadata": {},
   "outputs": [
    {
     "name": "stdout",
     "output_type": "stream",
     "text": [
      "47/47 [==============================] - 0s 1ms/step - loss: 3.0947 - accuracy: 0.5867\n"
     ]
    },
    {
     "data": {
      "text/plain": [
       "[3.0946741104125977, 0.5866666436195374]"
      ]
     },
     "execution_count": 20,
     "metadata": {},
     "output_type": "execute_result"
    }
   ],
   "source": [
    "model.evaluate(test_ds)"
   ]
  },
  {
   "cell_type": "code",
   "execution_count": 21,
   "id": "912a6751",
   "metadata": {},
   "outputs": [],
   "source": [
    "#changing code for git"
   ]
  },
  {
   "cell_type": "code",
   "execution_count": null,
   "id": "b0c8f7b4",
   "metadata": {},
   "outputs": [],
   "source": []
  }
 ],
 "metadata": {
  "kernelspec": {
   "display_name": "Python 3",
   "language": "python",
   "name": "python3"
  },
  "language_info": {
   "codemirror_mode": {
    "name": "ipython",
    "version": 3
   },
   "file_extension": ".py",
   "mimetype": "text/x-python",
   "name": "python",
   "nbconvert_exporter": "python",
   "pygments_lexer": "ipython3",
   "version": "3.8.8"
  }
 },
 "nbformat": 4,
 "nbformat_minor": 5
}
