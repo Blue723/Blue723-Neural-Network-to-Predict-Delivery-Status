{
 "cells": [
  {
   "cell_type": "code",
   "execution_count": 1,
   "id": "3621de86",
   "metadata": {},
   "outputs": [],
   "source": [
    "import pandas as pd\n",
    "import numpy as np\n",
    "import random\n",
    "import matplotlib.pyplot as plt\n",
    "import seaborn as sns\n",
    "from sklearn.preprocessing import OneHotEncoder\n",
    "from sklearn.preprocessing import StandardScaler\n",
    "from sklearn.model_selection import train_test_split\n",
    "from keras.utils.np_utils import to_categorical\n",
    "from keras import models, layers, optimizers\n",
    "\n",
    "import warnings\n",
    "warnings.filterwarnings('ignore')"
   ]
  },
  {
   "cell_type": "code",
   "execution_count": 2,
   "id": "6bdaa870",
   "metadata": {},
   "outputs": [],
   "source": [
    "df = pd.read_csv('df.csv')\n",
    "df.drop(columns=['Unnamed: 0'], axis=1, inplace=True)"
   ]
  },
  {
   "cell_type": "code",
   "execution_count": 3,
   "id": "b2cd2fb3",
   "metadata": {},
   "outputs": [],
   "source": [
    "df = df.drop(columns=[\n",
    "    'Late_delivery_risk'\n",
    "], axis=1)"
   ]
  },
  {
   "cell_type": "code",
   "execution_count": 4,
   "id": "90e9fc67",
   "metadata": {},
   "outputs": [],
   "source": [
    "df_obj = df.select_dtypes(include='object')\n",
    "df_obj.drop(columns=['Delivery Status'], axis=1, inplace=True)"
   ]
  },
  {
   "cell_type": "code",
   "execution_count": 5,
   "id": "c7679302",
   "metadata": {},
   "outputs": [],
   "source": [
    "#one hot encoder\n",
    "def onehotencoder(col):\n",
    "    \n",
    "    ohe = OneHotEncoder()\n",
    "    ohe_array = ohe.fit_transform((pd.DataFrame(col))).toarray()\n",
    "\n",
    "    feature_labels = np.array(ohe.categories_).ravel()\n",
    "\n",
    "\n",
    "    df_obj = pd.DataFrame(ohe_array, columns=feature_labels)\n",
    "    \n",
    "    return df_obj"
   ]
  },
  {
   "cell_type": "code",
   "execution_count": 6,
   "id": "f967a96c",
   "metadata": {},
   "outputs": [],
   "source": [
    "df_ohe = pd.DataFrame()\n",
    "for c in df_obj.columns:\n",
    "    one_hot = onehotencoder(df_obj[c])\n",
    "    df_ohe = pd.concat([df_ohe, one_hot], axis=1) "
   ]
  },
  {
   "cell_type": "code",
   "execution_count": 7,
   "id": "a9e9ded3",
   "metadata": {},
   "outputs": [],
   "source": [
    "df_cont_var = df.select_dtypes(exclude='object')"
   ]
  },
  {
   "cell_type": "code",
   "execution_count": 8,
   "id": "a0854f0c",
   "metadata": {},
   "outputs": [],
   "source": [
    "df_ohe = pd.concat([df_cont_var, df_ohe], axis=1)"
   ]
  },
  {
   "cell_type": "code",
   "execution_count": 9,
   "id": "d9a65093",
   "metadata": {},
   "outputs": [],
   "source": [
    "df_ohe = pd.concat([df_ohe, df['Delivery Status'] ], axis=1)"
   ]
  },
  {
   "cell_type": "code",
   "execution_count": 10,
   "id": "89c4a67a",
   "metadata": {},
   "outputs": [],
   "source": [
    "df=df_ohe"
   ]
  },
  {
   "cell_type": "code",
   "execution_count": 11,
   "id": "903d2379",
   "metadata": {},
   "outputs": [],
   "source": [
    "df.replace(to_replace=['Shipping on time'], value=0, inplace=True)\n",
    "df.replace(to_replace=['Advance shipping'], value=1, inplace=True)\n",
    "df.replace(to_replace=['Late delivery'], value=2, inplace=True)"
   ]
  },
  {
   "cell_type": "code",
   "execution_count": 12,
   "id": "6a84c8ac",
   "metadata": {},
   "outputs": [],
   "source": [
    "y=df['Delivery Status']\n",
    "y= to_categorical(y)"
   ]
  },
  {
   "cell_type": "code",
   "execution_count": 13,
   "id": "1d2a71a8",
   "metadata": {},
   "outputs": [],
   "source": [
    "# x variable\n",
    "X = df.drop(columns=['Delivery Status'], axis=1)"
   ]
  },
  {
   "cell_type": "code",
   "execution_count": 14,
   "id": "0e63f3a1",
   "metadata": {},
   "outputs": [],
   "source": [
    "X_train, X_val_test, y_train, y_val_test = train_test_split(X, y, test_size=.3)"
   ]
  },
  {
   "cell_type": "code",
   "execution_count": 15,
   "id": "c038199b",
   "metadata": {},
   "outputs": [],
   "source": [
    "X_val, X_test, y_val, y_test = train_test_split(X_val_test, y_val_test, test_size=.5)"
   ]
  },
  {
   "cell_type": "code",
   "execution_count": 16,
   "id": "3fc8c90f",
   "metadata": {},
   "outputs": [],
   "source": [
    "# another way to build model\n",
    "#model = Sequential([\n",
    "#    Dense(10, activaiton='relu')\n",
    "#    Dense(10, activaiton='relu')\n",
    "#    Dense(2, activaiton='softmax')\n",
    "#])"
   ]
  },
  {
   "cell_type": "code",
   "execution_count": 17,
   "id": "97de53cd",
   "metadata": {},
   "outputs": [],
   "source": [
    "model = models.Sequential()"
   ]
  },
  {
   "cell_type": "code",
   "execution_count": 18,
   "id": "cec43196",
   "metadata": {},
   "outputs": [],
   "source": [
    "model.add(layers.Dense(20, activation='relu', input_shape=(len(X.columns),)))\n",
    "model.add(layers.Dense(20, activation='relu'))\n",
    "\n",
    "model.add(layers.Dense(3, activation='softmax'))"
   ]
  },
  {
   "cell_type": "code",
   "execution_count": 19,
   "id": "aae28afd",
   "metadata": {},
   "outputs": [],
   "source": [
    "model.compile(optimizer='SGD',\n",
    "              loss='categorical_crossentropy',\n",
    "              metrics=['accuracy'])"
   ]
  },
  {
   "cell_type": "code",
   "execution_count": 20,
   "id": "0927381e",
   "metadata": {
    "scrolled": true
   },
   "outputs": [
    {
     "name": "stdout",
     "output_type": "stream",
     "text": [
      "Epoch 1/50\n",
      "6047/6047 [==============================] - 6s 949us/step - loss: 1403484.1250 - accuracy: 0.5716 - val_loss: 0.9694 - val_accuracy: 0.5784\n",
      "Epoch 2/50\n",
      "6047/6047 [==============================] - 6s 925us/step - loss: 0.9763 - accuracy: 0.5718 - val_loss: 0.9695 - val_accuracy: 0.5784\n",
      "Epoch 3/50\n",
      "6047/6047 [==============================] - 5s 907us/step - loss: 0.9763 - accuracy: 0.5718 - val_loss: 0.9694 - val_accuracy: 0.5784\n",
      "Epoch 4/50\n",
      "6047/6047 [==============================] - 6s 909us/step - loss: 0.9763 - accuracy: 0.5718 - val_loss: 0.9697 - val_accuracy: 0.5784\n",
      "Epoch 5/50\n",
      "6047/6047 [==============================] - 6s 907us/step - loss: 0.9763 - accuracy: 0.5718 - val_loss: 0.9694 - val_accuracy: 0.5784\n",
      "Epoch 6/50\n",
      "6047/6047 [==============================] - 6s 923us/step - loss: 0.9763 - accuracy: 0.5718 - val_loss: 0.9695 - val_accuracy: 0.5784\n",
      "Epoch 7/50\n",
      "6047/6047 [==============================] - 6s 922us/step - loss: 0.9763 - accuracy: 0.5718 - val_loss: 0.9696 - val_accuracy: 0.5784\n",
      "Epoch 8/50\n",
      "6047/6047 [==============================] - 6s 929us/step - loss: 0.9763 - accuracy: 0.5718 - val_loss: 0.9694 - val_accuracy: 0.5784\n",
      "Epoch 9/50\n",
      "6047/6047 [==============================] - 6s 919us/step - loss: 0.9763 - accuracy: 0.5718 - val_loss: 0.9693 - val_accuracy: 0.5784\n",
      "Epoch 10/50\n",
      "6047/6047 [==============================] - 6s 915us/step - loss: 0.9763 - accuracy: 0.5718 - val_loss: 0.9696 - val_accuracy: 0.5784\n",
      "Epoch 11/50\n",
      "6047/6047 [==============================] - 6s 923us/step - loss: 0.9763 - accuracy: 0.5718 - val_loss: 0.9694 - val_accuracy: 0.5784\n",
      "Epoch 12/50\n",
      "6047/6047 [==============================] - 6s 921us/step - loss: 0.9763 - accuracy: 0.5718 - val_loss: 0.9694 - val_accuracy: 0.5784\n",
      "Epoch 13/50\n",
      "6047/6047 [==============================] - 5s 891us/step - loss: 0.9763 - accuracy: 0.5718 - val_loss: 0.9698 - val_accuracy: 0.5784\n",
      "Epoch 14/50\n",
      "6047/6047 [==============================] - 6s 916us/step - loss: 0.9763 - accuracy: 0.5718 - val_loss: 0.9694 - val_accuracy: 0.5784\n",
      "Epoch 15/50\n",
      "6047/6047 [==============================] - 6s 929us/step - loss: 0.9763 - accuracy: 0.5718 - val_loss: 0.9694 - val_accuracy: 0.5784\n",
      "Epoch 16/50\n",
      "6047/6047 [==============================] - 6s 911us/step - loss: 0.9763 - accuracy: 0.5718 - val_loss: 0.9697 - val_accuracy: 0.5784\n",
      "Epoch 17/50\n",
      "6047/6047 [==============================] - 6s 913us/step - loss: 0.9763 - accuracy: 0.5718 - val_loss: 0.9696 - val_accuracy: 0.5784\n",
      "Epoch 18/50\n",
      "6047/6047 [==============================] - 6s 909us/step - loss: 0.9763 - accuracy: 0.5718 - val_loss: 0.9695 - val_accuracy: 0.5784\n",
      "Epoch 19/50\n",
      "6047/6047 [==============================] - 6s 914us/step - loss: 0.9763 - accuracy: 0.5718 - val_loss: 0.9695 - val_accuracy: 0.5784\n",
      "Epoch 20/50\n",
      "6047/6047 [==============================] - 6s 924us/step - loss: 0.9763 - accuracy: 0.5718 - val_loss: 0.9694 - val_accuracy: 0.5784\n",
      "Epoch 21/50\n",
      "6047/6047 [==============================] - 6s 920us/step - loss: 0.9763 - accuracy: 0.5718 - val_loss: 0.9693 - val_accuracy: 0.5784\n",
      "Epoch 22/50\n",
      "6047/6047 [==============================] - 5s 902us/step - loss: 0.9763 - accuracy: 0.5718 - val_loss: 0.9698 - val_accuracy: 0.5784\n",
      "Epoch 23/50\n",
      "6047/6047 [==============================] - 6s 934us/step - loss: 0.9764 - accuracy: 0.5718 - val_loss: 0.9694 - val_accuracy: 0.5784\n",
      "Epoch 24/50\n",
      "6047/6047 [==============================] - 6s 934us/step - loss: 0.9763 - accuracy: 0.5718 - val_loss: 0.9694 - val_accuracy: 0.5784\n",
      "Epoch 25/50\n",
      "6047/6047 [==============================] - 6s 917us/step - loss: 0.9763 - accuracy: 0.5718 - val_loss: 0.9696 - val_accuracy: 0.5784\n",
      "Epoch 26/50\n",
      "6047/6047 [==============================] - 6s 923us/step - loss: 0.9763 - accuracy: 0.5718 - val_loss: 0.9695 - val_accuracy: 0.5784\n",
      "Epoch 27/50\n",
      "6047/6047 [==============================] - 5s 908us/step - loss: 0.9763 - accuracy: 0.5718 - val_loss: 0.9695 - val_accuracy: 0.5784\n",
      "Epoch 28/50\n",
      "6047/6047 [==============================] - 6s 912us/step - loss: 0.9763 - accuracy: 0.5718 - val_loss: 0.9694 - val_accuracy: 0.5784\n",
      "Epoch 29/50\n",
      "6047/6047 [==============================] - 6s 942us/step - loss: 0.9763 - accuracy: 0.5718 - val_loss: 0.9698 - val_accuracy: 0.5784\n",
      "Epoch 30/50\n",
      "6047/6047 [==============================] - 6s 920us/step - loss: 0.9763 - accuracy: 0.5718 - val_loss: 0.9694 - val_accuracy: 0.5784\n",
      "Epoch 31/50\n",
      "6047/6047 [==============================] - 5s 906us/step - loss: 0.9763 - accuracy: 0.5718 - val_loss: 0.9696 - val_accuracy: 0.5784\n",
      "Epoch 32/50\n",
      "6047/6047 [==============================] - 5s 890us/step - loss: 0.9763 - accuracy: 0.5718 - val_loss: 0.9694 - val_accuracy: 0.5784\n",
      "Epoch 33/50\n",
      "6047/6047 [==============================] - 6s 926us/step - loss: 0.9763 - accuracy: 0.5718 - val_loss: 0.9698 - val_accuracy: 0.5784\n",
      "Epoch 34/50\n",
      "6047/6047 [==============================] - 6s 932us/step - loss: 0.9763 - accuracy: 0.5718 - val_loss: 0.9694 - val_accuracy: 0.5784\n",
      "Epoch 35/50\n",
      "6047/6047 [==============================] - 6s 928us/step - loss: 0.9763 - accuracy: 0.5718 - val_loss: 0.9694 - val_accuracy: 0.5784\n",
      "Epoch 36/50\n",
      "6047/6047 [==============================] - 6s 917us/step - loss: 0.9763 - accuracy: 0.5718 - val_loss: 0.9694 - val_accuracy: 0.5784\n",
      "Epoch 37/50\n",
      "6047/6047 [==============================] - 6s 937us/step - loss: 0.9763 - accuracy: 0.5718 - val_loss: 0.9694 - val_accuracy: 0.5784\n",
      "Epoch 38/50\n",
      "6047/6047 [==============================] - 6s 942us/step - loss: 0.9763 - accuracy: 0.5718 - val_loss: 0.9695 - val_accuracy: 0.5784\n",
      "Epoch 39/50\n",
      "6047/6047 [==============================] - 6s 924us/step - loss: 0.9763 - accuracy: 0.5718 - val_loss: 0.9695 - val_accuracy: 0.5784\n",
      "Epoch 40/50\n",
      "6047/6047 [==============================] - 6s 926us/step - loss: 0.9763 - accuracy: 0.5718 - val_loss: 0.9694 - val_accuracy: 0.5784\n",
      "Epoch 41/50\n",
      "6047/6047 [==============================] - 6s 918us/step - loss: 0.9763 - accuracy: 0.5718 - val_loss: 0.9695 - val_accuracy: 0.5784\n",
      "Epoch 42/50\n",
      "6047/6047 [==============================] - 6s 916us/step - loss: 0.9763 - accuracy: 0.5718 - val_loss: 0.9694 - val_accuracy: 0.5784\n",
      "Epoch 43/50\n",
      "6047/6047 [==============================] - 5s 896us/step - loss: 0.9763 - accuracy: 0.5718 - val_loss: 0.9694 - val_accuracy: 0.5784\n",
      "Epoch 44/50\n",
      "6047/6047 [==============================] - 5s 905us/step - loss: 0.9763 - accuracy: 0.5718 - val_loss: 0.9695 - val_accuracy: 0.5784\n",
      "Epoch 45/50\n",
      "6047/6047 [==============================] - 5s 899us/step - loss: 0.9763 - accuracy: 0.5718 - val_loss: 0.9694 - val_accuracy: 0.5784\n",
      "Epoch 46/50\n",
      "6047/6047 [==============================] - 6s 909us/step - loss: 0.9763 - accuracy: 0.5718 - val_loss: 0.9694 - val_accuracy: 0.5784\n",
      "Epoch 47/50\n",
      "6047/6047 [==============================] - 5s 898us/step - loss: 0.9763 - accuracy: 0.5718 - val_loss: 0.9693 - val_accuracy: 0.5784\n",
      "Epoch 48/50\n",
      "6047/6047 [==============================] - 6s 914us/step - loss: 0.9763 - accuracy: 0.5718 - val_loss: 0.9694 - val_accuracy: 0.5784\n",
      "Epoch 49/50\n",
      "6047/6047 [==============================] - 5s 899us/step - loss: 0.9763 - accuracy: 0.5718 - val_loss: 0.9694 - val_accuracy: 0.5784\n",
      "Epoch 50/50\n",
      "6047/6047 [==============================] - 6s 917us/step - loss: 0.9763 - accuracy: 0.5718 - val_loss: 0.9693 - val_accuracy: 0.5784\n"
     ]
    },
    {
     "data": {
      "text/plain": [
       "<keras.callbacks.History at 0x26235e09be0>"
      ]
     },
     "execution_count": 20,
     "metadata": {},
     "output_type": "execute_result"
    }
   ],
   "source": [
    "model.fit(\n",
    "    X_train,\n",
    "    y_train,\n",
    "    epochs=50,\n",
    "    batch_size=20,\n",
    "    validation_data=(X_val, y_val)\n",
    ")"
   ]
  },
  {
   "cell_type": "code",
   "execution_count": 23,
   "id": "df8f2fa2",
   "metadata": {},
   "outputs": [
    {
     "name": "stdout",
     "output_type": "stream",
     "text": [
      "810/810 [==============================] - 1s 743us/step - loss: 0.9751 - accuracy: 0.5727\n"
     ]
    },
    {
     "data": {
      "text/plain": [
       "[0.9751445055007935, 0.5726799368858337]"
      ]
     },
     "execution_count": 23,
     "metadata": {},
     "output_type": "execute_result"
    }
   ],
   "source": [
    "model.evaluate(X_test, y_test)"
   ]
  },
  {
   "cell_type": "code",
   "execution_count": null,
   "id": "912a6751",
   "metadata": {},
   "outputs": [],
   "source": []
  }
 ],
 "metadata": {
  "kernelspec": {
   "display_name": "Python 3",
   "language": "python",
   "name": "python3"
  },
  "language_info": {
   "codemirror_mode": {
    "name": "ipython",
    "version": 3
   },
   "file_extension": ".py",
   "mimetype": "text/x-python",
   "name": "python",
   "nbconvert_exporter": "python",
   "pygments_lexer": "ipython3",
   "version": "3.8.8"
  }
 },
 "nbformat": 4,
 "nbformat_minor": 5
}
