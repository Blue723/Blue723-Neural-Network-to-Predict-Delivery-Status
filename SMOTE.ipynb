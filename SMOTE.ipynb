{
 "cells": [
  {
   "cell_type": "code",
   "execution_count": 1,
   "id": "aa2f25b5",
   "metadata": {},
   "outputs": [],
   "source": [
    "import pandas as pd\n",
    "import numpy as np\n",
    "import seaborn as sns\n",
    "from sklearn.preprocessing import OneHotEncoder, LabelEncoder\n",
    "from sklearn.compose import make_column_selector as selector\n",
    "from sklearn.metrics import mean_squared_error\n",
    "from sklearn.model_selection import train_test_split\n",
    "from sklearn.preprocessing import StandardScaler\n",
    "from imblearn.over_sampling import SMOTE\n",
    "from sklearn.linear_model import LogisticRegression\n",
    "from sklearn.ensemble import RandomForestClassifier\n",
    "from xgboost import XGBClassifier\n",
    "from sklearn.metrics import classification_report\n",
    "from sklearn.metrics import mean_absolute_error, mean_squared_error\n",
    "import matplotlib.pyplot as plt\n",
    "from sklearn.metrics import confusion_matrix, plot_confusion_matrix\n",
    "import warnings\n",
    "warnings.filterwarnings('ignore')"
   ]
  },
  {
   "cell_type": "code",
   "execution_count": 2,
   "id": "23ea3138",
   "metadata": {},
   "outputs": [],
   "source": [
    "# all columns are numerical (categorical columns have been converted)\n",
    "df = pd.read_csv('df.csv')\n",
    "df.drop(columns=['Unnamed: 0'], axis=1, inplace=True)"
   ]
  },
  {
   "cell_type": "code",
   "execution_count": 3,
   "id": "0e004715",
   "metadata": {},
   "outputs": [],
   "source": [
    "df = df.drop(columns=[\n",
    "    'Days for shipping (real)',\n",
    "    'Benefit per order',\n",
    "    'Late_delivery_risk',\n",
    "    'Category Id',\n",
    "    'Customer State',\n",
    "    'Order State',\n",
    "    'Order Item Total',\n",
    "    'Order Customer Id',\n",
    "    'Order Id',\n",
    "    'Order City',\n",
    "    'Order Country',\n",
    "    'Order Status',\n",
    "    'Product Price',\n",
    "], axis=1)"
   ]
  },
  {
   "cell_type": "code",
   "execution_count": 4,
   "id": "5ab035a3",
   "metadata": {
    "scrolled": true
   },
   "outputs": [],
   "source": [
    "df_obj = df.select_dtypes(include='object')\n",
    "df_obj.drop(columns=['Delivery Status'], axis=1, inplace=True)"
   ]
  },
  {
   "cell_type": "code",
   "execution_count": 5,
   "id": "9b079ce5",
   "metadata": {},
   "outputs": [],
   "source": [
    "#one hot encoder\n",
    "def onehotencoder(col):\n",
    "    \n",
    "    ohe = OneHotEncoder()\n",
    "    ohe_array = ohe.fit_transform((pd.DataFrame(col))).toarray()\n",
    "\n",
    "    feature_labels = np.array(ohe.categories_).ravel()\n",
    "\n",
    "\n",
    "    df_obj = pd.DataFrame(ohe_array, columns=feature_labels)\n",
    "    \n",
    "    return df_obj"
   ]
  },
  {
   "cell_type": "code",
   "execution_count": 6,
   "id": "ebbcd62f",
   "metadata": {
    "scrolled": true
   },
   "outputs": [],
   "source": [
    "df_ohe = pd.DataFrame()\n",
    "for c in df_obj.columns:\n",
    "    one_hot = onehotencoder(df_obj[c])\n",
    "    df_ohe = pd.concat([df_ohe, one_hot], axis=1) "
   ]
  },
  {
   "cell_type": "code",
   "execution_count": 7,
   "id": "486a7b99",
   "metadata": {},
   "outputs": [],
   "source": [
    "df_cont_var = df.select_dtypes(exclude='object')"
   ]
  },
  {
   "cell_type": "code",
   "execution_count": 8,
   "id": "8e0830c2",
   "metadata": {},
   "outputs": [],
   "source": [
    "df_ohe = pd.concat([df_cont_var, df_ohe], axis=1)"
   ]
  },
  {
   "cell_type": "code",
   "execution_count": 9,
   "id": "66963b1f",
   "metadata": {},
   "outputs": [],
   "source": [
    "df_ohe.dropna(inplace=True)"
   ]
  },
  {
   "cell_type": "code",
   "execution_count": 10,
   "id": "cc44a569",
   "metadata": {},
   "outputs": [],
   "source": [
    "# y variable values set equal to label encode the dataframes column being used for y\n",
    "le = LabelEncoder()\n",
    "y = le.fit_transform(df['Delivery Status'])"
   ]
  },
  {
   "cell_type": "code",
   "execution_count": 11,
   "id": "96149215",
   "metadata": {},
   "outputs": [],
   "source": [
    "# x variable\n",
    "X = df_ohe"
   ]
  },
  {
   "cell_type": "code",
   "execution_count": 12,
   "id": "c8964458",
   "metadata": {},
   "outputs": [],
   "source": [
    "X_train, X_test, y_train, y_test = train_test_split(X, y, train_size=.8, test_size=.2)"
   ]
  },
  {
   "cell_type": "markdown",
   "id": "d48ce793",
   "metadata": {},
   "source": [
    "### SMOTE"
   ]
  },
  {
   "cell_type": "code",
   "execution_count": 13,
   "id": "969063f7",
   "metadata": {},
   "outputs": [
    {
     "data": {
      "text/plain": [
       "StandardScaler()"
      ]
     },
     "execution_count": 13,
     "metadata": {},
     "output_type": "execute_result"
    }
   ],
   "source": [
    "# scaling data\n",
    "scaler = StandardScaler()\n",
    "scaler.fit(X_train)"
   ]
  },
  {
   "cell_type": "code",
   "execution_count": 14,
   "id": "a472b5ca",
   "metadata": {},
   "outputs": [],
   "source": [
    "scaler_x_train = scaler.transform(X_train)"
   ]
  },
  {
   "cell_type": "code",
   "execution_count": 15,
   "id": "3ea238e6",
   "metadata": {},
   "outputs": [],
   "source": [
    "scaler.fit(X_test)\n",
    "scaler_x_test = scaler.transform(X_test)"
   ]
  },
  {
   "cell_type": "code",
   "execution_count": 16,
   "id": "c4553386",
   "metadata": {},
   "outputs": [],
   "source": [
    "# Synthetic minority over sampling\n",
    "smote =  SMOTE()\n",
    "x_smote_train, y_smote_train = smote.fit_resample(scaler_x_train, y_train)"
   ]
  },
  {
   "cell_type": "markdown",
   "id": "5e1e2264",
   "metadata": {},
   "source": [
    "##### Logistic Regression Models"
   ]
  },
  {
   "cell_type": "markdown",
   "id": "12490763",
   "metadata": {},
   "source": [
    "##### Training Model"
   ]
  },
  {
   "cell_type": "code",
   "execution_count": 17,
   "id": "0fb7ee18",
   "metadata": {},
   "outputs": [],
   "source": [
    "logistic_regression = LogisticRegression(random_state=42)\n",
    "logistic_regression.fit(x_smote_train, y_smote_train)\n",
    "lr_pred_train = logistic_regression.predict(x_smote_train)"
   ]
  },
  {
   "cell_type": "code",
   "execution_count": 18,
   "id": "7418bde3",
   "metadata": {
    "scrolled": false
   },
   "outputs": [
    {
     "name": "stdout",
     "output_type": "stream",
     "text": [
      "                  precision    recall  f1-score   support\n",
      "\n",
      "Advance shipping       0.50      0.97      0.66     79105\n",
      "   Late delivery       0.73      0.54      0.62     79105\n",
      "Shipping on time       0.68      0.22      0.34     79105\n",
      "\n",
      "        accuracy                           0.58    237315\n",
      "       macro avg       0.64      0.58      0.54    237315\n",
      "    weighted avg       0.64      0.58      0.54    237315\n",
      "\n"
     ]
    }
   ],
   "source": [
    "print(classification_report(y_smote_train, lr_pred_train,  target_names=le.classes_))"
   ]
  },
  {
   "cell_type": "code",
   "execution_count": 19,
   "id": "e8294d0e",
   "metadata": {
    "scrolled": true
   },
   "outputs": [
    {
     "name": "stdout",
     "output_type": "stream",
     "text": [
      "Mean Absolute Error: 0.6264880011798665\n",
      "Mean Squared Error: 1.03280871415629\n",
      "Root Mean Squared Error: 1.016271968597132\n"
     ]
    }
   ],
   "source": [
    "print('Mean Absolute Error:', mean_absolute_error(y_smote_train, lr_pred_train))\n",
    "print('Mean Squared Error:', mean_squared_error(y_smote_train, lr_pred_train))  \n",
    "print('Root Mean Squared Error:', np.sqrt(mean_squared_error(y_smote_train, lr_pred_train)))"
   ]
  },
  {
   "cell_type": "code",
   "execution_count": 20,
   "id": "f50fc051",
   "metadata": {
    "scrolled": true
   },
   "outputs": [
    {
     "data": {
      "image/png": "[encoded data removed]",
      "text/plain": [
       "<Figure size 432x288 with 2 Axes>"
      ]
     },
     "metadata": {
      "needs_background": "light"
     },
     "output_type": "display_data"
    }
   ],
   "source": [
    "plot_confusion_matrix(logistic_regression, x_smote_train, y_smote_train,\n",
    "                      cmap=plt.cm.Blues)\n",
    "\n",
    "plt.xticks(ticks=range(0,len(le.classes_)),labels=le.classes_, )\n",
    "plt.yticks(ticks=range(0,len(le.classes_)),labels=le.classes_)\n",
    "\n",
    "plt.show()"
   ]
  },
  {
   "cell_type": "markdown",
   "id": "904190d2",
   "metadata": {},
   "source": [
    "##### Testing Model"
   ]
  },
  {
   "cell_type": "code",
   "execution_count": 21,
   "id": "02ab1411",
   "metadata": {},
   "outputs": [],
   "source": [
    "lr_pred_test = logistic_regression.predict(scaler_x_test)"
   ]
  },
  {
   "cell_type": "code",
   "execution_count": 22,
   "id": "f588c2df",
   "metadata": {},
   "outputs": [
    {
     "name": "stdout",
     "output_type": "stream",
     "text": [
      "                  precision    recall  f1-score   support\n",
      "\n",
      "Advance shipping       0.41      0.98      0.58      8249\n",
      "   Late delivery       0.90      0.51      0.65     19871\n",
      "Shipping on time       0.38      0.20      0.27      6433\n",
      "\n",
      "        accuracy                           0.56     34553\n",
      "       macro avg       0.56      0.57      0.50     34553\n",
      "    weighted avg       0.69      0.56      0.56     34553\n",
      "\n"
     ]
    }
   ],
   "source": [
    "print(classification_report(y_test, lr_pred_test, target_names=le.classes_))"
   ]
  },
  {
   "cell_type": "code",
   "execution_count": 23,
   "id": "0d5fd997",
   "metadata": {
    "scrolled": true
   },
   "outputs": [
    {
     "name": "stdout",
     "output_type": "stream",
     "text": [
      "Mean Absolute Error: 0.5544525800943478\n",
      "Mean Squared Error: 0.7926373976210459\n",
      "Root Mean Squared Error: 0.8903018575859796\n"
     ]
    }
   ],
   "source": [
    "print('Mean Absolute Error:', mean_absolute_error(y_test, lr_pred_test))\n",
    "print('Mean Squared Error:', mean_squared_error(y_test, lr_pred_test))  \n",
    "print('Root Mean Squared Error:', np.sqrt(mean_squared_error(y_test, lr_pred_test)))"
   ]
  },
  {
   "cell_type": "code",
   "execution_count": 24,
   "id": "d09b4937",
   "metadata": {
    "scrolled": true
   },
   "outputs": [
    {
     "data": {
      "image/png": "[encoded data removed]",
      "text/plain": [
       "<Figure size 432x288 with 2 Axes>"
      ]
     },
     "metadata": {
      "needs_background": "light"
     },
     "output_type": "display_data"
    }
   ],
   "source": [
    "plot_confusion_matrix(logistic_regression, scaler_x_test, y_test,\n",
    "                      cmap=plt.cm.Blues)\n",
    "\n",
    "plt.xticks(ticks=range(0,len(le.classes_)),labels=le.classes_, )\n",
    "plt.yticks(ticks=range(0,len(le.classes_)),labels=le.classes_)\n",
    "\n",
    "plt.show()"
   ]
  },
  {
   "cell_type": "markdown",
   "id": "54558f53",
   "metadata": {},
   "source": [
    "#### Random Forest Models"
   ]
  },
  {
   "cell_type": "markdown",
   "id": "db6362eb",
   "metadata": {},
   "source": [
    "##### Training Models"
   ]
  },
  {
   "cell_type": "code",
   "execution_count": 25,
   "id": "dcf323df",
   "metadata": {},
   "outputs": [],
   "source": [
    "rfc = RandomForestClassifier()\n",
    "rfc.fit(x_smote_train, y_smote_train)\n",
    "rfc_pred_train = rfc.predict(x_smote_train)"
   ]
  },
  {
   "cell_type": "code",
   "execution_count": 26,
   "id": "dc1d0e16",
   "metadata": {},
   "outputs": [
    {
     "name": "stdout",
     "output_type": "stream",
     "text": [
      "                  precision    recall  f1-score   support\n",
      "\n",
      "Advance shipping       1.00      1.00      1.00     79105\n",
      "   Late delivery       1.00      1.00      1.00     79105\n",
      "Shipping on time       1.00      1.00      1.00     79105\n",
      "\n",
      "        accuracy                           1.00    237315\n",
      "       macro avg       1.00      1.00      1.00    237315\n",
      "    weighted avg       1.00      1.00      1.00    237315\n",
      "\n"
     ]
    }
   ],
   "source": [
    "print(classification_report(y_smote_train, rfc_pred_train,  target_names=le.classes_))"
   ]
  },
  {
   "cell_type": "code",
   "execution_count": 27,
   "id": "e1c3b04b",
   "metadata": {
    "scrolled": false
   },
   "outputs": [
    {
     "name": "stdout",
     "output_type": "stream",
     "text": [
      "Mean Absolute Error: 0.0\n",
      "Mean Squared Error: 0.0\n",
      "Root Mean Squared Error: 0.0\n"
     ]
    }
   ],
   "source": [
    "print('Mean Absolute Error:', mean_absolute_error(y_smote_train, rfc_pred_train))\n",
    "print('Mean Squared Error:', mean_squared_error(y_smote_train, rfc_pred_train))  \n",
    "print('Root Mean Squared Error:', np.sqrt(mean_squared_error(y_smote_train, rfc_pred_train)))"
   ]
  },
  {
   "cell_type": "code",
   "execution_count": 28,
   "id": "e2b08db7",
   "metadata": {
    "scrolled": true
   },
   "outputs": [
    {
     "data": {
      "image/png": "[encoded data removed]",
      "text/plain": [
       "<Figure size 432x288 with 2 Axes>"
      ]
     },
     "metadata": {
      "needs_background": "light"
     },
     "output_type": "display_data"
    }
   ],
   "source": [
    "plot_confusion_matrix(rfc, x_smote_train, y_smote_train,\n",
    "                      cmap=plt.cm.Reds)\n",
    "\n",
    "plt.xticks(ticks=range(0,len(le.classes_)),labels=le.classes_, )\n",
    "plt.yticks(ticks=range(0,len(le.classes_)),labels=le.classes_)\n",
    "\n",
    "plt.show()"
   ]
  },
  {
   "cell_type": "markdown",
   "id": "e59decf8",
   "metadata": {},
   "source": [
    "##### Testing Model"
   ]
  },
  {
   "cell_type": "code",
   "execution_count": 29,
   "id": "32cc8fcf",
   "metadata": {},
   "outputs": [],
   "source": [
    "rfc_pred_test = rfc.predict(scaler_x_test)"
   ]
  },
  {
   "cell_type": "code",
   "execution_count": 30,
   "id": "d2c4f8a6",
   "metadata": {},
   "outputs": [
    {
     "name": "stdout",
     "output_type": "stream",
     "text": [
      "                  precision    recall  f1-score   support\n",
      "\n",
      "Advance shipping       0.42      0.81      0.56      8249\n",
      "   Late delivery       0.99      0.27      0.43     19871\n",
      "Shipping on time       0.27      0.55      0.36      6433\n",
      "\n",
      "        accuracy                           0.45     34553\n",
      "       macro avg       0.56      0.54      0.45     34553\n",
      "    weighted avg       0.72      0.45      0.44     34553\n",
      "\n"
     ]
    }
   ],
   "source": [
    "print(classification_report(y_test, rfc_pred_test, target_names=le.classes_))"
   ]
  },
  {
   "cell_type": "code",
   "execution_count": 31,
   "id": "eb697156",
   "metadata": {
    "scrolled": true
   },
   "outputs": [
    {
     "name": "stdout",
     "output_type": "stream",
     "text": [
      "Mean Absolute Error: 0.6760628599542732\n",
      "Mean Squared Error: 0.9319017162040922\n",
      "Root Mean Squared Error: 0.9653505664804326\n"
     ]
    }
   ],
   "source": [
    "print('Mean Absolute Error:', mean_absolute_error(y_test, rfc_pred_test))\n",
    "print('Mean Squared Error:', mean_squared_error(y_test, rfc_pred_test))  \n",
    "print('Root Mean Squared Error:', np.sqrt(mean_squared_error(y_test, rfc_pred_test)))"
   ]
  },
  {
   "cell_type": "code",
   "execution_count": 32,
   "id": "b994fe51",
   "metadata": {
    "scrolled": true
   },
   "outputs": [
    {
     "data": {
      "image/png": "[encoded data removed]",
      "text/plain": [
       "<Figure size 432x288 with 2 Axes>"
      ]
     },
     "metadata": {
      "needs_background": "light"
     },
     "output_type": "display_data"
    }
   ],
   "source": [
    "plot_confusion_matrix(rfc, scaler_x_test, y_test,\n",
    "                      cmap=plt.cm.Reds)\n",
    "\n",
    "plt.xticks(ticks=range(0,len(le.classes_)),labels=le.classes_, )\n",
    "plt.yticks(ticks=range(0,len(le.classes_)),labels=le.classes_)\n",
    "\n",
    "plt.show()"
   ]
  },
  {
   "cell_type": "markdown",
   "id": "e09bbb4b",
   "metadata": {},
   "source": [
    "#### XGBoost"
   ]
  },
  {
   "cell_type": "markdown",
   "id": "3c40c34d",
   "metadata": {},
   "source": [
    "##### Training Model"
   ]
  },
  {
   "cell_type": "code",
   "execution_count": 33,
   "id": "6ae257b5",
   "metadata": {},
   "outputs": [
    {
     "name": "stdout",
     "output_type": "stream",
     "text": [
      "[12:19:50] WARNING: ..\\src\\learner.cc:1061: Starting in XGBoost 1.3.0, the default evaluation metric used with the objective 'multi:softprob' was changed from 'merror' to 'mlogloss'. Explicitly set eval_metric if you'd like to restore the old behavior.\n"
     ]
    }
   ],
   "source": [
    "xgb = XGBClassifier()\n",
    "xgb.fit(x_smote_train, y_smote_train)\n",
    "xgb_pred_train = xgb.predict(x_smote_train)"
   ]
  },
  {
   "cell_type": "code",
   "execution_count": 34,
   "id": "4c539d5a",
   "metadata": {},
   "outputs": [
    {
     "name": "stdout",
     "output_type": "stream",
     "text": [
      "                  precision    recall  f1-score   support\n",
      "\n",
      "Advance shipping       0.62      0.88      0.73     79105\n",
      "   Late delivery       0.78      0.78      0.78     79105\n",
      "Shipping on time       0.88      0.50      0.64     79105\n",
      "\n",
      "        accuracy                           0.72    237315\n",
      "       macro avg       0.76      0.72      0.71    237315\n",
      "    weighted avg       0.76      0.72      0.71    237315\n",
      "\n"
     ]
    }
   ],
   "source": [
    "print(classification_report(y_smote_train, xgb_pred_train,  target_names=le.classes_))"
   ]
  },
  {
   "cell_type": "code",
   "execution_count": 35,
   "id": "88ec4804",
   "metadata": {
    "scrolled": false
   },
   "outputs": [
    {
     "name": "stdout",
     "output_type": "stream",
     "text": [
      "Mean Absolute Error: 0.4122874660261677\n",
      "Mean Squared Error: 0.6778164043570781\n",
      "Root Mean Squared Error: 0.8232960611815643\n"
     ]
    }
   ],
   "source": [
    "print('Mean Absolute Error:', mean_absolute_error(y_smote_train, xgb_pred_train))\n",
    "print('Mean Squared Error:', mean_squared_error(y_smote_train, xgb_pred_train))  \n",
    "print('Root Mean Squared Error:', np.sqrt(mean_squared_error(y_smote_train, xgb_pred_train)))"
   ]
  },
  {
   "cell_type": "code",
   "execution_count": 36,
   "id": "c997ae60",
   "metadata": {
    "scrolled": true
   },
   "outputs": [
    {
     "data": {
      "image/png": "[encoded data removed]",
      "text/plain": [
       "<Figure size 432x288 with 2 Axes>"
      ]
     },
     "metadata": {
      "needs_background": "light"
     },
     "output_type": "display_data"
    }
   ],
   "source": [
    "plot_confusion_matrix(xgb, x_smote_train, y_smote_train,\n",
    "                      cmap=plt.cm.Greens)\n",
    "\n",
    "plt.xticks(ticks=range(0,len(le.classes_)),labels=le.classes_, )\n",
    "plt.yticks(ticks=range(0,len(le.classes_)),labels=le.classes_)\n",
    "\n",
    "plt.show()"
   ]
  },
  {
   "cell_type": "markdown",
   "id": "0a895189",
   "metadata": {},
   "source": [
    "##### Testing Model"
   ]
  },
  {
   "cell_type": "code",
   "execution_count": 37,
   "id": "7b2cebb8",
   "metadata": {},
   "outputs": [],
   "source": [
    "xgb_pred_test = xgb.predict(scaler_x_test)"
   ]
  },
  {
   "cell_type": "code",
   "execution_count": 38,
   "id": "46f1ddcf",
   "metadata": {},
   "outputs": [
    {
     "name": "stdout",
     "output_type": "stream",
     "text": [
      "                  precision    recall  f1-score   support\n",
      "\n",
      "Advance shipping       0.44      0.42      0.43      8249\n",
      "   Late delivery       1.00      0.25      0.40     19871\n",
      "Shipping on time       0.23      0.78      0.36      6433\n",
      "\n",
      "        accuracy                           0.39     34553\n",
      "       macro avg       0.56      0.48      0.40     34553\n",
      "    weighted avg       0.72      0.39      0.40     34553\n",
      "\n"
     ]
    }
   ],
   "source": [
    "print(classification_report(y_test, xgb_pred_test, target_names=le.classes_))"
   ]
  },
  {
   "cell_type": "code",
   "execution_count": 39,
   "id": "a3613031",
   "metadata": {
    "scrolled": true
   },
   "outputs": [
    {
     "name": "stdout",
     "output_type": "stream",
     "text": [
      "Mean Absolute Error: 0.7894828234885538\n",
      "Mean Squared Error: 1.1487569820276098\n",
      "Root Mean Squared Error: 1.071800812664186\n"
     ]
    }
   ],
   "source": [
    "print('Mean Absolute Error:', mean_absolute_error(y_test, xgb_pred_test))\n",
    "print('Mean Squared Error:', mean_squared_error(y_test, xgb_pred_test))  \n",
    "print('Root Mean Squared Error:', np.sqrt(mean_squared_error(y_test, xgb_pred_test)))"
   ]
  },
  {
   "cell_type": "code",
   "execution_count": 40,
   "id": "2ddf58f6",
   "metadata": {
    "scrolled": true
   },
   "outputs": [
    {
     "data": {
      "image/png": "[encoded data removed]",
      "text/plain": [
       "<Figure size 432x288 with 2 Axes>"
      ]
     },
     "metadata": {
      "needs_background": "light"
     },
     "output_type": "display_data"
    }
   ],
   "source": [
    "plot_confusion_matrix(xgb, scaler_x_test, y_test,\n",
    "                      cmap=plt.cm.Greens)\n",
    "\n",
    "plt.xticks(ticks=range(0,len(le.classes_)),labels=le.classes_, )\n",
    "plt.yticks(ticks=range(0,len(le.classes_)),labels=le.classes_)\n",
    "\n",
    "plt.show()"
   ]
  },
  {
   "cell_type": "code",
   "execution_count": null,
   "id": "0a9daaa2",
   "metadata": {},
   "outputs": [],
   "source": []
  }
 ],
 "metadata": {
  "kernelspec": {
   "display_name": "Python 3",
   "language": "python",
   "name": "python3"
  },
  "language_info": {
   "codemirror_mode": {
    "name": "ipython",
    "version": 3
   },
   "file_extension": ".py",
   "mimetype": "text/x-python",
   "name": "python",
   "nbconvert_exporter": "python",
   "pygments_lexer": "ipython3",
   "version": "3.8.8"
  }
 },
 "nbformat": 4,
 "nbformat_minor": 5
}
